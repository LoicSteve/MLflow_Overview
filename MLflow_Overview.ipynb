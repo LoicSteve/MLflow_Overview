{
  "cells": [
    {
      "cell_type": "markdown",
      "metadata": {
        "colab_type": "text",
        "id": "view-in-github"
      },
      "source": [
        "<a href=\"https://colab.research.google.com/github/LoicSteve/MLflow_Overview/blob/main/MLflow_Overview.ipynb\" target=\"_parent\"><img src=\"https://colab.research.google.com/assets/colab-badge.svg\" alt=\"Open In Colab\"/></a>"
      ]
    },
    {
      "cell_type": "code",
      "execution_count": null,
      "metadata": {
        "id": "SMaHn1Rjtddx"
      },
      "outputs": [],
      "source": []
    },
    {
      "cell_type": "markdown",
      "metadata": {
        "id": "YIcAcf17tuFV"
      },
      "source": [
        "### MLflow Tracking"
      ]
    },
    {
      "cell_type": "markdown",
      "metadata": {
        "id": "-hyRv_6Qt3Qd"
      },
      "source": [
        "MLflow tracking is an API and UI for logging parameters, code versions, metrics and output files when running your machine learning code to later visualize them. With a few simple lines of code, you can track parameters, metrics, and artifacts"
      ]
    },
    {
      "cell_type": "code",
      "execution_count": null,
      "metadata": {
        "id": "YAVyE9IttxUa"
      },
      "outputs": [],
      "source": [
        "import mlflow\n",
        "\n",
        "#log parameters(key-values pairs)\n",
        "mlflow.log_param(\"param1\", 5)\n",
        "mlflow.log_param(\"num_dimensions\", 6)\n",
        "mlflow.log_param(\"regularization\", 0.1)\n",
        "\n",
        "#log a metric; metrics can be updated throughout the run\n",
        "mlflow.log_metric(\"accuracy\", 0.1)\n",
        "mlflow.log_metric(\"foo\", 2)\n",
        "mlflow.log_metric(\"foo\", 3)\n",
        "\n",
        "#log an artifact (output file)\n",
        "with open(\"output.txt\", \"w\") as f:\n",
        "    f.write(\"Hello world!\")\n",
        "mlflow.log_artifact(\"output.txt\")\n",
        "mlflow.log_artifact(\"roc.png\")\n",
        "mlflow.log_artifact(\"model.pkl\")\n"
      ]
    },
    {
      "cell_type": "markdown",
      "metadata": {
        "id": "oSckwRnRvvjT"
      },
      "source": [
        "### MLflow projects"
      ]
    },
    {
      "cell_type": "markdown",
      "metadata": {
        "id": "ZHOMFz8qv3Hr"
      },
      "source": [
        "MLflow projects provide a standard format for packaging reusable data science code. Each project is simply a directory with code or a git repository, and uses a descriptor file to specify its dependencies and how to run the code. A MLflow Projeect is defines by a sim ple YAML file called MLproject"
      ]
    },
    {
      "cell_type": "code",
      "execution_count": null,
      "metadata": {
        "id": "RejO-FRKvEE3"
      },
      "outputs": [],
      "source": [
        "name:My Project\n",
        "\n",
        "conda_env: conda.yaml\n",
        "\n",
        "entry_points:\n",
        "  main:\n",
        "    parameters:\n",
        "      data_file: path\n",
        "      regularization: {type: float, default: 0.1}\n",
        "    command: \"python train.py -r {regularization} {data_file}\"\n",
        "  validate:\n",
        "    parameters:\n",
        "      data_file: path\n",
        "    command: \"python validate.py {data_file}\""
      ]
    },
    {
      "cell_type": "markdown",
      "metadata": {
        "id": "ayteXnF1xXKu"
      },
      "source": [
        "### MLflow Models"
      ]
    },
    {
      "cell_type": "markdown",
      "metadata": {
        "id": "vkXI58LTxbmi"
      },
      "source": [
        "MLflow Models is a convention for packaging ML models in multiple formats called \"flavors\". MLflow offers a variety of tools to help you deploy different flavors of models. Each MLflow Model is saved as a directory containing arbitrary files and an MLmodel descriptor file that lists the flavors it can be used in."
      ]
    },
    {
      "cell_type": "code",
      "execution_count": null,
      "metadata": {
        "id": "RgTf5srXxagz"
      },
      "outputs": [],
      "source": [
        "time_created: 2024-08-05T10:23:45.6\n",
        "flavors:\n",
        "  sklearn:\n",
        "    sklearn_version: 1.1.1\n",
        "    pickled_model: model.pkl\n",
        "  Python_function:\n",
        "    loader_module: model\n",
        "    pickled_model: model.pkl"
      ]
    },
    {
      "cell_type": "code",
      "execution_count": 3,
      "metadata": {},
      "outputs": [
        {
          "name": "stdout",
          "output_type": "stream",
          "text": [
            "Collecting mlflow\n",
            "  Using cached mlflow-2.15.0-py3-none-any.whl.metadata (29 kB)\n",
            "Collecting mlflow-skinny==2.15.0 (from mlflow)\n",
            "  Using cached mlflow_skinny-2.15.0-py3-none-any.whl.metadata (30 kB)\n",
            "Collecting Flask<4 (from mlflow)\n",
            "  Downloading flask-3.0.3-py3-none-any.whl.metadata (3.2 kB)\n",
            "Collecting alembic!=1.10.0,<2 (from mlflow)\n",
            "  Using cached alembic-1.13.2-py3-none-any.whl.metadata (7.4 kB)\n",
            "Collecting docker<8,>=4.0.0 (from mlflow)\n",
            "  Downloading docker-7.1.0-py3-none-any.whl.metadata (3.8 kB)\n",
            "Collecting graphene<4 (from mlflow)\n",
            "  Using cached graphene-3.3-py2.py3-none-any.whl.metadata (7.7 kB)\n",
            "Collecting markdown<4,>=3.3 (from mlflow)\n",
            "  Using cached Markdown-3.6-py3-none-any.whl.metadata (7.0 kB)\n",
            "Collecting matplotlib<4 (from mlflow)\n",
            "  Downloading matplotlib-3.9.0-cp312-cp312-macosx_10_12_x86_64.whl.metadata (11 kB)\n",
            "Collecting numpy<2 (from mlflow)\n",
            "  Downloading numpy-1.26.4-cp312-cp312-macosx_10_9_x86_64.whl.metadata (61 kB)\n",
            "Collecting pandas<3 (from mlflow)\n",
            "  Downloading pandas-2.2.2-cp312-cp312-macosx_10_9_x86_64.whl.metadata (19 kB)\n",
            "Collecting pyarrow<16,>=4.0.0 (from mlflow)\n",
            "  Downloading pyarrow-15.0.2-cp312-cp312-macosx_10_15_x86_64.whl.metadata (3.0 kB)\n",
            "Collecting querystring-parser<2 (from mlflow)\n",
            "  Using cached querystring_parser-1.2.4-py2.py3-none-any.whl.metadata (559 bytes)\n",
            "Collecting scikit-learn<2 (from mlflow)\n",
            "  Downloading scikit_learn-1.5.1-cp312-cp312-macosx_10_9_x86_64.whl.metadata (12 kB)\n",
            "Collecting scipy<2 (from mlflow)\n",
            "  Downloading scipy-1.14.0-cp312-cp312-macosx_10_9_x86_64.whl.metadata (60 kB)\n",
            "Collecting sqlalchemy<3,>=1.4.0 (from mlflow)\n",
            "  Downloading SQLAlchemy-2.0.31-cp312-cp312-macosx_10_9_x86_64.whl.metadata (9.6 kB)\n",
            "Collecting Jinja2<4,>=2.11 (from mlflow)\n",
            "  Using cached jinja2-3.1.4-py3-none-any.whl.metadata (2.6 kB)\n",
            "Collecting gunicorn<23 (from mlflow)\n",
            "  Using cached gunicorn-22.0.0-py3-none-any.whl.metadata (4.4 kB)\n",
            "Collecting cachetools<6,>=5.0.0 (from mlflow-skinny==2.15.0->mlflow)\n",
            "  Using cached cachetools-5.4.0-py3-none-any.whl.metadata (5.3 kB)\n",
            "Collecting click<9,>=7.0 (from mlflow-skinny==2.15.0->mlflow)\n",
            "  Using cached click-8.1.7-py3-none-any.whl.metadata (3.0 kB)\n",
            "Collecting cloudpickle<4 (from mlflow-skinny==2.15.0->mlflow)\n",
            "  Using cached cloudpickle-3.0.0-py3-none-any.whl.metadata (7.0 kB)\n",
            "Collecting databricks-sdk<1,>=0.20.0 (from mlflow-skinny==2.15.0->mlflow)\n",
            "  Using cached databricks_sdk-0.29.0-py3-none-any.whl.metadata (35 kB)\n",
            "Collecting entrypoints<1 (from mlflow-skinny==2.15.0->mlflow)\n",
            "  Using cached entrypoints-0.4-py3-none-any.whl.metadata (2.6 kB)\n",
            "Collecting gitpython<4,>=3.1.9 (from mlflow-skinny==2.15.0->mlflow)\n",
            "  Using cached GitPython-3.1.43-py3-none-any.whl.metadata (13 kB)\n",
            "Collecting importlib-metadata!=4.7.0,<8,>=3.7.0 (from mlflow-skinny==2.15.0->mlflow)\n",
            "  Downloading importlib_metadata-7.2.1-py3-none-any.whl.metadata (4.6 kB)\n",
            "Collecting opentelemetry-api<3,>=1.9.0 (from mlflow-skinny==2.15.0->mlflow)\n",
            "  Downloading opentelemetry_api-1.26.0-py3-none-any.whl.metadata (1.4 kB)\n",
            "Collecting opentelemetry-sdk<3,>=1.9.0 (from mlflow-skinny==2.15.0->mlflow)\n",
            "  Downloading opentelemetry_sdk-1.26.0-py3-none-any.whl.metadata (1.5 kB)\n",
            "Requirement already satisfied: packaging<25 in /Users/loicsteve/anaconda3/envs/mlflow/lib/python3.12/site-packages (from mlflow-skinny==2.15.0->mlflow) (24.1)\n",
            "Collecting protobuf<6,>=3.12.0 (from mlflow-skinny==2.15.0->mlflow)\n",
            "  Downloading protobuf-5.27.3-cp38-abi3-macosx_10_9_universal2.whl.metadata (592 bytes)\n",
            "Collecting pytz<2025 (from mlflow-skinny==2.15.0->mlflow)\n",
            "  Using cached pytz-2024.1-py2.py3-none-any.whl.metadata (22 kB)\n",
            "Collecting pyyaml<7,>=5.1 (from mlflow-skinny==2.15.0->mlflow)\n",
            "  Using cached PyYAML-6.0.1-cp312-cp312-macosx_10_9_x86_64.whl.metadata (2.1 kB)\n",
            "Collecting requests<3,>=2.17.3 (from mlflow-skinny==2.15.0->mlflow)\n",
            "  Using cached requests-2.32.3-py3-none-any.whl.metadata (4.6 kB)\n",
            "Collecting sqlparse<1,>=0.4.0 (from mlflow-skinny==2.15.0->mlflow)\n",
            "  Using cached sqlparse-0.5.1-py3-none-any.whl.metadata (3.9 kB)\n",
            "Collecting Mako (from alembic!=1.10.0,<2->mlflow)\n",
            "  Using cached Mako-1.3.5-py3-none-any.whl.metadata (2.9 kB)\n",
            "Requirement already satisfied: typing-extensions>=4 in /Users/loicsteve/anaconda3/envs/mlflow/lib/python3.12/site-packages (from alembic!=1.10.0,<2->mlflow) (4.12.2)\n",
            "Collecting urllib3>=1.26.0 (from docker<8,>=4.0.0->mlflow)\n",
            "  Using cached urllib3-2.2.2-py3-none-any.whl.metadata (6.4 kB)\n",
            "Collecting Werkzeug>=3.0.0 (from Flask<4->mlflow)\n",
            "  Using cached werkzeug-3.0.3-py3-none-any.whl.metadata (3.7 kB)\n",
            "Collecting itsdangerous>=2.1.2 (from Flask<4->mlflow)\n",
            "  Downloading itsdangerous-2.2.0-py3-none-any.whl.metadata (1.9 kB)\n",
            "Collecting blinker>=1.6.2 (from Flask<4->mlflow)\n",
            "  Using cached blinker-1.8.2-py3-none-any.whl.metadata (1.6 kB)\n",
            "Collecting graphql-core<3.3,>=3.1 (from graphene<4->mlflow)\n",
            "  Using cached graphql_core-3.2.3-py3-none-any.whl.metadata (10 kB)\n",
            "Collecting graphql-relay<3.3,>=3.1 (from graphene<4->mlflow)\n",
            "  Using cached graphql_relay-3.2.0-py3-none-any.whl.metadata (12 kB)\n",
            "Collecting aniso8601<10,>=8 (from graphene<4->mlflow)\n",
            "  Using cached aniso8601-9.0.1-py2.py3-none-any.whl.metadata (23 kB)\n",
            "Collecting MarkupSafe>=2.0 (from Jinja2<4,>=2.11->mlflow)\n",
            "  Using cached MarkupSafe-2.1.5-cp312-cp312-macosx_10_9_x86_64.whl.metadata (3.0 kB)\n",
            "Collecting contourpy>=1.0.1 (from matplotlib<4->mlflow)\n",
            "  Downloading contourpy-1.2.1-cp312-cp312-macosx_10_9_x86_64.whl.metadata (5.8 kB)\n",
            "Collecting cycler>=0.10 (from matplotlib<4->mlflow)\n",
            "  Using cached cycler-0.12.1-py3-none-any.whl.metadata (3.8 kB)\n",
            "Collecting fonttools>=4.22.0 (from matplotlib<4->mlflow)\n",
            "  Downloading fonttools-4.53.1-cp312-cp312-macosx_10_9_universal2.whl.metadata (162 kB)\n",
            "Collecting kiwisolver>=1.3.1 (from matplotlib<4->mlflow)\n",
            "  Downloading kiwisolver-1.4.5-cp312-cp312-macosx_10_9_x86_64.whl.metadata (6.4 kB)\n",
            "Collecting pillow>=8 (from matplotlib<4->mlflow)\n",
            "  Using cached pillow-10.4.0-cp312-cp312-macosx_10_10_x86_64.whl.metadata (9.2 kB)\n",
            "Collecting pyparsing>=2.3.1 (from matplotlib<4->mlflow)\n",
            "  Using cached pyparsing-3.1.2-py3-none-any.whl.metadata (5.1 kB)\n",
            "Requirement already satisfied: python-dateutil>=2.7 in /Users/loicsteve/anaconda3/envs/mlflow/lib/python3.12/site-packages (from matplotlib<4->mlflow) (2.9.0)\n",
            "Collecting tzdata>=2022.7 (from pandas<3->mlflow)\n",
            "  Using cached tzdata-2024.1-py2.py3-none-any.whl.metadata (1.4 kB)\n",
            "Requirement already satisfied: six in /Users/loicsteve/anaconda3/envs/mlflow/lib/python3.12/site-packages (from querystring-parser<2->mlflow) (1.16.0)\n",
            "Collecting joblib>=1.2.0 (from scikit-learn<2->mlflow)\n",
            "  Using cached joblib-1.4.2-py3-none-any.whl.metadata (5.4 kB)\n",
            "Collecting threadpoolctl>=3.1.0 (from scikit-learn<2->mlflow)\n",
            "  Using cached threadpoolctl-3.5.0-py3-none-any.whl.metadata (13 kB)\n",
            "Collecting greenlet!=0.4.17 (from sqlalchemy<3,>=1.4.0->mlflow)\n",
            "  Downloading greenlet-3.0.3-cp312-cp312-macosx_11_0_universal2.whl.metadata (3.8 kB)\n",
            "Collecting google-auth~=2.0 (from databricks-sdk<1,>=0.20.0->mlflow-skinny==2.15.0->mlflow)\n",
            "  Downloading google_auth-2.32.0-py2.py3-none-any.whl.metadata (4.7 kB)\n",
            "Collecting gitdb<5,>=4.0.1 (from gitpython<4,>=3.1.9->mlflow-skinny==2.15.0->mlflow)\n",
            "  Using cached gitdb-4.0.11-py3-none-any.whl.metadata (1.2 kB)\n",
            "Requirement already satisfied: zipp>=0.5 in /Users/loicsteve/anaconda3/envs/mlflow/lib/python3.12/site-packages (from importlib-metadata!=4.7.0,<8,>=3.7.0->mlflow-skinny==2.15.0->mlflow) (3.19.2)\n",
            "Collecting deprecated>=1.2.6 (from opentelemetry-api<3,>=1.9.0->mlflow-skinny==2.15.0->mlflow)\n",
            "  Using cached Deprecated-1.2.14-py2.py3-none-any.whl.metadata (5.4 kB)\n",
            "Collecting opentelemetry-semantic-conventions==0.47b0 (from opentelemetry-sdk<3,>=1.9.0->mlflow-skinny==2.15.0->mlflow)\n",
            "  Downloading opentelemetry_semantic_conventions-0.47b0-py3-none-any.whl.metadata (2.4 kB)\n",
            "Collecting charset-normalizer<4,>=2 (from requests<3,>=2.17.3->mlflow-skinny==2.15.0->mlflow)\n",
            "  Using cached charset_normalizer-3.3.2-cp312-cp312-macosx_10_9_x86_64.whl.metadata (33 kB)\n",
            "Collecting idna<4,>=2.5 (from requests<3,>=2.17.3->mlflow-skinny==2.15.0->mlflow)\n",
            "  Using cached idna-3.7-py3-none-any.whl.metadata (9.9 kB)\n",
            "Collecting certifi>=2017.4.17 (from requests<3,>=2.17.3->mlflow-skinny==2.15.0->mlflow)\n",
            "  Using cached certifi-2024.7.4-py3-none-any.whl.metadata (2.2 kB)\n",
            "Collecting wrapt<2,>=1.10 (from deprecated>=1.2.6->opentelemetry-api<3,>=1.9.0->mlflow-skinny==2.15.0->mlflow)\n",
            "  Downloading wrapt-1.16.0-cp312-cp312-macosx_10_9_x86_64.whl.metadata (6.6 kB)\n",
            "Collecting smmap<6,>=3.0.1 (from gitdb<5,>=4.0.1->gitpython<4,>=3.1.9->mlflow-skinny==2.15.0->mlflow)\n",
            "  Using cached smmap-5.0.1-py3-none-any.whl.metadata (4.3 kB)\n",
            "Collecting pyasn1-modules>=0.2.1 (from google-auth~=2.0->databricks-sdk<1,>=0.20.0->mlflow-skinny==2.15.0->mlflow)\n",
            "  Using cached pyasn1_modules-0.4.0-py3-none-any.whl.metadata (3.4 kB)\n",
            "Collecting rsa<5,>=3.1.4 (from google-auth~=2.0->databricks-sdk<1,>=0.20.0->mlflow-skinny==2.15.0->mlflow)\n",
            "  Using cached rsa-4.9-py3-none-any.whl.metadata (4.2 kB)\n",
            "Collecting pyasn1<0.7.0,>=0.4.6 (from pyasn1-modules>=0.2.1->google-auth~=2.0->databricks-sdk<1,>=0.20.0->mlflow-skinny==2.15.0->mlflow)\n",
            "  Using cached pyasn1-0.6.0-py2.py3-none-any.whl.metadata (8.3 kB)\n",
            "Using cached mlflow-2.15.0-py3-none-any.whl (26.3 MB)\n",
            "Using cached mlflow_skinny-2.15.0-py3-none-any.whl (5.5 MB)\n",
            "Using cached alembic-1.13.2-py3-none-any.whl (232 kB)\n",
            "Downloading docker-7.1.0-py3-none-any.whl (147 kB)\n",
            "Downloading flask-3.0.3-py3-none-any.whl (101 kB)\n",
            "Using cached graphene-3.3-py2.py3-none-any.whl (128 kB)\n",
            "Using cached gunicorn-22.0.0-py3-none-any.whl (84 kB)\n",
            "Using cached jinja2-3.1.4-py3-none-any.whl (133 kB)\n",
            "Using cached Markdown-3.6-py3-none-any.whl (105 kB)\n",
            "Downloading matplotlib-3.9.0-cp312-cp312-macosx_10_12_x86_64.whl (7.9 MB)\n",
            "\u001b[2K   \u001b[90m━━━━━━━━━━━━━━━━━━━━━━━━━━━━━━━━━━━━━━━━\u001b[0m \u001b[32m7.9/7.9 MB\u001b[0m \u001b[31m46.0 MB/s\u001b[0m eta \u001b[36m0:00:00\u001b[0m\n",
            "\u001b[?25hDownloading numpy-1.26.4-cp312-cp312-macosx_10_9_x86_64.whl (20.3 MB)\n",
            "\u001b[2K   \u001b[90m━━━━━━━━━━━━━━━━━━━━━━━━━━━━━━━━━━━━━━━━\u001b[0m \u001b[32m20.3/20.3 MB\u001b[0m \u001b[31m26.6 MB/s\u001b[0m eta \u001b[36m0:00:00\u001b[0ma \u001b[36m0:00:01\u001b[0m\n",
            "\u001b[?25hDownloading pandas-2.2.2-cp312-cp312-macosx_10_9_x86_64.whl (12.5 MB)\n",
            "\u001b[2K   \u001b[90m━━━━━━━━━━━━━━━━━━━━━━━━━━━━━━━━━━━━━━━━\u001b[0m \u001b[32m12.5/12.5 MB\u001b[0m \u001b[31m40.7 MB/s\u001b[0m eta \u001b[36m0:00:00\u001b[0ma \u001b[36m0:00:01\u001b[0m\n",
            "\u001b[?25hDownloading pyarrow-15.0.2-cp312-cp312-macosx_10_15_x86_64.whl (27.1 MB)\n",
            "\u001b[2K   \u001b[90m━━━━━━━━━━━━━━━━━━━━━━━━━━━━━━━━━━━━━━━━\u001b[0m \u001b[32m27.1/27.1 MB\u001b[0m \u001b[31m22.2 MB/s\u001b[0m eta \u001b[36m0:00:00\u001b[0ma \u001b[36m0:00:01\u001b[0m\n",
            "\u001b[?25hUsing cached querystring_parser-1.2.4-py2.py3-none-any.whl (7.9 kB)\n",
            "Downloading scikit_learn-1.5.1-cp312-cp312-macosx_10_9_x86_64.whl (12.1 MB)\n",
            "\u001b[2K   \u001b[90m━━━━━━━━━━━━━━━━━━━━━━━━━━━━━━━━━━━━━━━━\u001b[0m \u001b[32m12.1/12.1 MB\u001b[0m \u001b[31m34.5 MB/s\u001b[0m eta \u001b[36m0:00:00\u001b[0m \u001b[36m0:00:01\u001b[0m\n",
            "\u001b[?25hDownloading scipy-1.14.0-cp312-cp312-macosx_10_9_x86_64.whl (39.2 MB)\n",
            "\u001b[2K   \u001b[90m━━━━━━━━━━━━━━━━━━━━━━━━━━━━━━━━━━━━━━━━\u001b[0m \u001b[32m39.2/39.2 MB\u001b[0m \u001b[31m38.2 MB/s\u001b[0m eta \u001b[36m0:00:00\u001b[0ma \u001b[36m0:00:01\u001b[0m\n",
            "\u001b[?25hDownloading SQLAlchemy-2.0.31-cp312-cp312-macosx_10_9_x86_64.whl (2.1 MB)\n",
            "\u001b[2K   \u001b[90m━━━━━━━━━━━━━━━━━━━━━━━━━━━━━━━━━━━━━━━━\u001b[0m \u001b[32m2.1/2.1 MB\u001b[0m \u001b[31m17.5 MB/s\u001b[0m eta \u001b[36m0:00:00\u001b[0m\n",
            "\u001b[?25hUsing cached aniso8601-9.0.1-py2.py3-none-any.whl (52 kB)\n",
            "Using cached blinker-1.8.2-py3-none-any.whl (9.5 kB)\n",
            "Using cached cachetools-5.4.0-py3-none-any.whl (9.5 kB)\n",
            "Using cached click-8.1.7-py3-none-any.whl (97 kB)\n",
            "Using cached cloudpickle-3.0.0-py3-none-any.whl (20 kB)\n",
            "Downloading contourpy-1.2.1-cp312-cp312-macosx_10_9_x86_64.whl (263 kB)\n",
            "Using cached cycler-0.12.1-py3-none-any.whl (8.3 kB)\n",
            "Using cached databricks_sdk-0.29.0-py3-none-any.whl (505 kB)\n",
            "Using cached entrypoints-0.4-py3-none-any.whl (5.3 kB)\n",
            "Downloading fonttools-4.53.1-cp312-cp312-macosx_10_9_universal2.whl (2.8 MB)\n",
            "\u001b[2K   \u001b[90m━━━━━━━━━━━━━━━━━━━━━━━━━━━━━━━━━━━━━━━━\u001b[0m \u001b[32m2.8/2.8 MB\u001b[0m \u001b[31m36.0 MB/s\u001b[0m eta \u001b[36m0:00:00\u001b[0m\n",
            "\u001b[?25hUsing cached GitPython-3.1.43-py3-none-any.whl (207 kB)\n",
            "Using cached graphql_core-3.2.3-py3-none-any.whl (202 kB)\n",
            "Using cached graphql_relay-3.2.0-py3-none-any.whl (16 kB)\n",
            "Downloading greenlet-3.0.3-cp312-cp312-macosx_11_0_universal2.whl (273 kB)\n",
            "Downloading importlib_metadata-7.2.1-py3-none-any.whl (25 kB)\n",
            "Downloading itsdangerous-2.2.0-py3-none-any.whl (16 kB)\n",
            "Using cached joblib-1.4.2-py3-none-any.whl (301 kB)\n",
            "Downloading kiwisolver-1.4.5-cp312-cp312-macosx_10_9_x86_64.whl (67 kB)\n",
            "Using cached MarkupSafe-2.1.5-cp312-cp312-macosx_10_9_x86_64.whl (14 kB)\n",
            "Downloading opentelemetry_api-1.26.0-py3-none-any.whl (61 kB)\n",
            "Downloading opentelemetry_sdk-1.26.0-py3-none-any.whl (109 kB)\n",
            "Downloading opentelemetry_semantic_conventions-0.47b0-py3-none-any.whl (138 kB)\n",
            "Using cached pillow-10.4.0-cp312-cp312-macosx_10_10_x86_64.whl (3.5 MB)\n",
            "Downloading protobuf-5.27.3-cp38-abi3-macosx_10_9_universal2.whl (412 kB)\n",
            "Using cached pyparsing-3.1.2-py3-none-any.whl (103 kB)\n",
            "Using cached pytz-2024.1-py2.py3-none-any.whl (505 kB)\n",
            "Using cached PyYAML-6.0.1-cp312-cp312-macosx_10_9_x86_64.whl (178 kB)\n",
            "Using cached requests-2.32.3-py3-none-any.whl (64 kB)\n",
            "Using cached sqlparse-0.5.1-py3-none-any.whl (44 kB)\n",
            "Using cached threadpoolctl-3.5.0-py3-none-any.whl (18 kB)\n",
            "Using cached tzdata-2024.1-py2.py3-none-any.whl (345 kB)\n",
            "Using cached urllib3-2.2.2-py3-none-any.whl (121 kB)\n",
            "Using cached werkzeug-3.0.3-py3-none-any.whl (227 kB)\n",
            "Using cached Mako-1.3.5-py3-none-any.whl (78 kB)\n",
            "Using cached certifi-2024.7.4-py3-none-any.whl (162 kB)\n",
            "Using cached charset_normalizer-3.3.2-cp312-cp312-macosx_10_9_x86_64.whl (122 kB)\n",
            "Using cached Deprecated-1.2.14-py2.py3-none-any.whl (9.6 kB)\n",
            "Using cached gitdb-4.0.11-py3-none-any.whl (62 kB)\n",
            "Downloading google_auth-2.32.0-py2.py3-none-any.whl (195 kB)\n",
            "Using cached idna-3.7-py3-none-any.whl (66 kB)\n",
            "Using cached pyasn1_modules-0.4.0-py3-none-any.whl (181 kB)\n",
            "Using cached rsa-4.9-py3-none-any.whl (34 kB)\n",
            "Using cached smmap-5.0.1-py3-none-any.whl (24 kB)\n",
            "Downloading wrapt-1.16.0-cp312-cp312-macosx_10_9_x86_64.whl (37 kB)\n",
            "Using cached pyasn1-0.6.0-py2.py3-none-any.whl (85 kB)\n",
            "Installing collected packages: pytz, aniso8601, wrapt, urllib3, tzdata, threadpoolctl, sqlparse, smmap, querystring-parser, pyyaml, pyparsing, pyasn1, protobuf, pillow, numpy, MarkupSafe, markdown, kiwisolver, joblib, itsdangerous, importlib-metadata, idna, gunicorn, greenlet, graphql-core, fonttools, entrypoints, cycler, cloudpickle, click, charset-normalizer, certifi, cachetools, blinker, Werkzeug, sqlalchemy, scipy, rsa, requests, pyasn1-modules, pyarrow, pandas, Mako, Jinja2, graphql-relay, gitdb, deprecated, contourpy, scikit-learn, opentelemetry-api, matplotlib, graphene, google-auth, gitpython, Flask, docker, alembic, opentelemetry-semantic-conventions, databricks-sdk, opentelemetry-sdk, mlflow-skinny, mlflow\n",
            "  Attempting uninstall: importlib-metadata\n",
            "    Found existing installation: importlib_metadata 8.2.0\n",
            "    Uninstalling importlib_metadata-8.2.0:\n",
            "      Successfully uninstalled importlib_metadata-8.2.0\n",
            "Successfully installed Flask-3.0.3 Jinja2-3.1.4 Mako-1.3.5 MarkupSafe-2.1.5 Werkzeug-3.0.3 alembic-1.13.2 aniso8601-9.0.1 blinker-1.8.2 cachetools-5.4.0 certifi-2024.7.4 charset-normalizer-3.3.2 click-8.1.7 cloudpickle-3.0.0 contourpy-1.2.1 cycler-0.12.1 databricks-sdk-0.29.0 deprecated-1.2.14 docker-7.1.0 entrypoints-0.4 fonttools-4.53.1 gitdb-4.0.11 gitpython-3.1.43 google-auth-2.32.0 graphene-3.3 graphql-core-3.2.3 graphql-relay-3.2.0 greenlet-3.0.3 gunicorn-22.0.0 idna-3.7 importlib-metadata-7.2.1 itsdangerous-2.2.0 joblib-1.4.2 kiwisolver-1.4.5 markdown-3.6 matplotlib-3.9.0 mlflow-2.15.0 mlflow-skinny-2.15.0 numpy-1.26.4 opentelemetry-api-1.26.0 opentelemetry-sdk-1.26.0 opentelemetry-semantic-conventions-0.47b0 pandas-2.2.2 pillow-10.4.0 protobuf-5.27.3 pyarrow-15.0.2 pyasn1-0.6.0 pyasn1-modules-0.4.0 pyparsing-3.1.2 pytz-2024.1 pyyaml-6.0.1 querystring-parser-1.2.4 requests-2.32.3 rsa-4.9 scikit-learn-1.5.1 scipy-1.14.0 smmap-5.0.1 sqlalchemy-2.0.31 sqlparse-0.5.1 threadpoolctl-3.5.0 tzdata-2024.1 urllib3-2.2.2 wrapt-1.16.0\n",
            "Note: you may need to restart the kernel to use updated packages.\n"
          ]
        }
      ],
      "source": [
        "pip install mlflow"
      ]
    },
    {
      "cell_type": "code",
      "execution_count": 4,
      "metadata": {},
      "outputs": [],
      "source": [
        "import mlflow"
      ]
    },
    {
      "cell_type": "code",
      "execution_count": 5,
      "metadata": {},
      "outputs": [],
      "source": [
        "from mlflow import log_metric"
      ]
    },
    {
      "cell_type": "code",
      "execution_count": null,
      "metadata": {},
      "outputs": [],
      "source": []
    }
  ],
  "metadata": {
    "colab": {
      "authorship_tag": "ABX9TyOJt6YUtEq+/VyuFJ3SIvcv",
      "include_colab_link": true,
      "provenance": []
    },
    "kernelspec": {
      "display_name": "Python 3",
      "name": "python3"
    },
    "language_info": {
      "codemirror_mode": {
        "name": "ipython",
        "version": 3
      },
      "file_extension": ".py",
      "mimetype": "text/x-python",
      "name": "python",
      "nbconvert_exporter": "python",
      "pygments_lexer": "ipython3",
      "version": "3.12.4"
    }
  },
  "nbformat": 4,
  "nbformat_minor": 0
}
