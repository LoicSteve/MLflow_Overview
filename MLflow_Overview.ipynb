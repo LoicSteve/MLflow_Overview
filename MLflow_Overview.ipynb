{
  "nbformat": 4,
  "nbformat_minor": 0,
  "metadata": {
    "colab": {
      "provenance": [],
      "authorship_tag": "ABX9TyOJt6YUtEq+/VyuFJ3SIvcv",
      "include_colab_link": true
    },
    "kernelspec": {
      "name": "python3",
      "display_name": "Python 3"
    },
    "language_info": {
      "name": "python"
    }
  },
  "cells": [
    {
      "cell_type": "markdown",
      "metadata": {
        "id": "view-in-github",
        "colab_type": "text"
      },
      "source": [
        "<a href=\"https://colab.research.google.com/github/LoicSteve/MLflow_Overview/blob/main/MLflow_Overview.ipynb\" target=\"_parent\"><img src=\"https://colab.research.google.com/assets/colab-badge.svg\" alt=\"Open In Colab\"/></a>"
      ]
    },
    {
      "cell_type": "code",
      "execution_count": null,
      "metadata": {
        "id": "SMaHn1Rjtddx"
      },
      "outputs": [],
      "source": []
    },
    {
      "cell_type": "markdown",
      "source": [
        "### MLflow Tracking"
      ],
      "metadata": {
        "id": "YIcAcf17tuFV"
      }
    },
    {
      "cell_type": "markdown",
      "source": [
        "MLflow tracking is an API and UI for logging parameters, code versions, metrics and output files when running your machine learning code to later visualize them. With a few simple lines of code, you can track parameters, metrics, and artifacts"
      ],
      "metadata": {
        "id": "-hyRv_6Qt3Qd"
      }
    },
    {
      "cell_type": "code",
      "source": [
        "import mlflow\n",
        "\n",
        "#log parameters(key-values pairs)\n",
        "mlflow.log_param(\"param1\", 5)\n",
        "mlflow.log_param(\"num_dimensions\", 6)\n",
        "mlflow.log_param(\"regularization\", 0.1)\n",
        "\n",
        "#log a metric; metrics can be updated throughout the run\n",
        "mlflow.log_metric(\"accuracy\", 0.1)\n",
        "mlflow.log_metric(\"foo\", 2)\n",
        "mlflow.log_metric(\"foo\", 3)\n",
        "\n",
        "#log an artifact (output file)\n",
        "with open(\"output.txt\", \"w\") as f:\n",
        "    f.write(\"Hello world!\")\n",
        "mlflow.log_artifact(\"output.txt\")\n",
        "mlflow.log_artifact(\"roc.png\")\n",
        "mlflow.log_artifact(\"model.pkl\")\n"
      ],
      "metadata": {
        "id": "YAVyE9IttxUa"
      },
      "execution_count": null,
      "outputs": []
    },
    {
      "cell_type": "markdown",
      "source": [
        "### MLflow projects"
      ],
      "metadata": {
        "id": "oSckwRnRvvjT"
      }
    },
    {
      "cell_type": "markdown",
      "source": [
        "MLflow projects provide a standard format for packaging reusable data science code. Each project is simply a directory with code or a git repository, and uses a descriptor file to specify its dependencies and how to run the code. A MLflow Projeect is defines by a sim ple YAML file called MLproject"
      ],
      "metadata": {
        "id": "ZHOMFz8qv3Hr"
      }
    },
    {
      "cell_type": "code",
      "source": [
        "name:My Project\n",
        "conda_env: conda.yaml\n",
        "entry_points:\n",
        "  main:\n",
        "    parameters:\n",
        "      data_file: path\n",
        "      regularization: {type: float, default: 0.1}\n",
        "    command: \"python train.py -r {regularization} {data_file}\"\n",
        "  validate:\n",
        "    parameters:\n",
        "      data_file: path\n",
        "    command: \"python validate.py {data_file}\""
      ],
      "metadata": {
        "id": "RejO-FRKvEE3"
      },
      "execution_count": null,
      "outputs": []
    },
    {
      "cell_type": "markdown",
      "source": [
        "### MLflow Models"
      ],
      "metadata": {
        "id": "ayteXnF1xXKu"
      }
    },
    {
      "cell_type": "markdown",
      "source": [
        "MLflow Models is a convention for packaging ML models in multiple formats called \"flavors\". MLflow offers a variety of tools to help you deploy different flavors of models. Each MLflow Model is saved as a directory containing arbitrary files and an MLmodel descriptor file that lists the flavors it can be used in."
      ],
      "metadata": {
        "id": "vkXI58LTxbmi"
      }
    },
    {
      "cell_type": "code",
      "source": [
        "time_created: 2024-08-05T10:23:45.6\n",
        "flavors:\n",
        "  sklearn:\n",
        "    sklearn_version: 1.1.1\n",
        "    pickled_model: model.pkl\n",
        "  Python_function:\n",
        "    loader_module: model\n",
        "    pickled_model: model.pkl"
      ],
      "metadata": {
        "id": "RgTf5srXxagz"
      },
      "execution_count": null,
      "outputs": []
    }
  ]
}